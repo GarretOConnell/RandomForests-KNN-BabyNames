{
 "cells": [
  {
   "cell_type": "markdown",
   "metadata": {},
   "source": [
    "### US Baby Names Database\n",
    "Author: Garret O'Connell\n",
    "Kaggle URL: https://www.kaggle.com/kaggle/us-baby-names\n",
    "\n",
    "### The Data Set\n",
    "US Social Security applications are a great way to track trends in how babies born in the US are named. Data.gov released two datasets: one at the national level and another at the state level fr the last 100 years. Note that only names with at least 5 babies born in the same year (/ state) are included in this dataset for privacy.\n",
    "\n",
    "\n",
    "### Task 1.\n",
    "Given a name, gender and year: The likelihood of that name being born in a specific state.\n",
    "\n",
    "#### Algorithm choice\n",
    "* The chosen machine learning algorithm for this question was Random Forest, an learning classifier that is accurate in many contexts.\n",
    "* Random Forest is suitable for multi-class responses (e.g. which state a baby is born in), is resistant to overfitting, and makes few assumptions about the data.\n",
    "* Random Forest requires little parameter tuning and are easily applied to a variety of data types.\n",
    "\n",
    "#### Data cleaning and model fitting\n",
    "* I used 5 fold cross-validation to assess model accuracy.\n",
    "* The data set set was very large and this slowed model fitting. To reduce the data for quickly building a \"prototype\" model (to apply to full data later), I sampled 20 years of data which were spaced evenly apart in time, and then further reduced data by randomly sampling 5% of these data.\n",
    "* Inspecting the data I observed the majority of observations (~95%) were accounted for by 5% of the levels in the name variable (see below figure for distribution of names). \n",
    "\n",
    "#### Inputs required\n",
    "* You can enter your own test case to see in which state the model predicts a given name/gender/year is most likely to be born. The predict state and probabilities are outputed at the end of the notebook.\n",
    "\n",
    "#### Results\n",
    "* The Random Forests classified with 11% accuracy (base rate: ~2%).\n",
    "\n",
    "### Task 2.\n",
    "\n",
    "Given the state, name and year: The probability of that name being male or female.\n",
    "\n",
    "#### Algorithm choice:\n",
    "* The chosen machine learning algorithm for this question was K Nearest Neighbour (KNN).\n",
    "* KNN is a non-parametric model that makes no assumption about the data distribution. \n",
    "* KNN allowed me to model the relationship between geographically neighbouring states. \n",
    "* KNN can also take multi-level features (unlike logistic regression) which was useful as encoding the numerous name levels as binary dummy variables could lead to memory errors.\n",
    "\n",
    "#### Data cleaning and model fitting\n",
    "* I chose a train-test data split of 4-1 to reduce overfitting.\n",
    "\n",
    "* I removed older data keeping last 20 years to minimize to a dataset for building prototype model that was faster to fit.\n",
    "\n",
    "* To reduce the high cardinality of the name variable I removed rarer names that were not in the top 10% of frequency. This retained the majority of the data (~95%) while removing 90% of the levels in the name variable.\n",
    "\n",
    "* A new feature of Rank (rank of names by frequency per sate) was estimated to model the popularity of that name-gender combination in a given state.\n",
    "\n",
    "* I entered longitudinal and latitudinal coordinates of the city capitals of each state to model geographical relationship between states.\n",
    "\n",
    "* Examining the accuracies of various values for the k parameter (number of nearest neighbours), I chose a k of 20 which appeared to be where the drop in accuracy began to level off (see plot below).\n",
    "\n",
    "#### Inputs required\n",
    "* You can enter your own test case to see in which state the model predicts a given name/gender/year is most likely to be born. The predict state and probabilities are outputed at the end of the notebook.\n",
    "\n",
    "#### Results\n",
    "* The KNN classified with an accuracy of 88% (base rate = 50%). "
   ]
  },
  {
   "cell_type": "code",
   "execution_count": 1,
   "metadata": {
    "collapsed": true
   },
   "outputs": [],
   "source": [
    "from collections import OrderedDict\n",
    "\n",
    "# enter attributes for test case to submit to model\n",
    "test_case = OrderedDict([('Name', \"Taylor\"), ('Year', 2011), ('Gender', \"M\")])"
   ]
  },
  {
   "cell_type": "code",
   "execution_count": 2,
   "metadata": {
    "collapsed": true
   },
   "outputs": [],
   "source": [
    "import os\n",
    "import pandas as pd\n",
    "import numpy as np\n",
    "\n",
    "path = os.getcwd()\n",
    "data_dir = os.path.join(os.path.sep.join(path.split(os.path.sep)[:-1]),'data')\n",
    "df = pd.read_csv(os.path.join(data_dir,'StateNames.csv'), index_col = False) "
   ]
  },
  {
   "cell_type": "code",
   "execution_count": 3,
   "metadata": {
    "collapsed": true
   },
   "outputs": [],
   "source": [
    "# remove ID as there is nothing to learn from this feature (it would just add some noise)\n",
    "df = df.drop(['Id'], axis=1)"
   ]
  },
  {
   "cell_type": "markdown",
   "metadata": {},
   "source": [
    "### Question 1."
   ]
  },
  {
   "cell_type": "code",
   "execution_count": 4,
   "metadata": {
    "collapsed": true
   },
   "outputs": [],
   "source": [
    "# sample data evenly spaced across time to minimize to a smaller dataset for building model prototype\n",
    "year_ratio = 20\n",
    "year_ratio = (df[\"Year\"].max()-df[\"Year\"].min())/year_ratio\n",
    "year_incl = np.arange(df[\"Year\"].min(), df[\"Year\"].max(), year_ratio)\n",
    "year_incl = list(map(int, year_incl))\n",
    "df = df[df['Year'].isin(year_incl)]"
   ]
  },
  {
   "cell_type": "code",
   "execution_count": 5,
   "metadata": {
    "collapsed": true
   },
   "outputs": [],
   "source": [
    "# record labels for decode after classification\n",
    "cat_columns = [\"Name\",\"Gender\",\"State\"]\n",
    "label_list = []\n",
    "for column in cat_columns:\n",
    "    df[column] = df[column].astype('category')\n",
    "    label_list.append(dict( enumerate(df[column].cat.categories) ))\n",
    "    df[column] = df[column].astype(\"category\").cat.codes"
   ]
  },
  {
   "cell_type": "code",
   "execution_count": 6,
   "metadata": {
    "collapsed": true
   },
   "outputs": [],
   "source": [
    "# examine distribution of names\n",
    "df_unique = df.groupby([ \"Name\", \"Gender\"], as_index=False).sum()\n",
    "df_unique = df_unique.sort_values(by=['Count'],ascending=[False]).reset_index()"
   ]
  },
  {
   "cell_type": "markdown",
   "metadata": {},
   "source": [
    "#### Data visualization\n",
    "\n",
    "The majority of cases (~95%) were accounted for by 5% of the names which suggests the name variable was sparsely populated and training the model on only common names would improve processing efficiency (by reducing the cardinality of the names feature) without negatively affecting accuracy."
   ]
  },
  {
   "cell_type": "code",
   "execution_count": 7,
   "metadata": {},
   "outputs": [
    {
     "data": {
      "image/png": "[encoded data removed]",
      "text/plain": [
       "<matplotlib.figure.Figure at 0x1276ff9e8>"
      ]
     },
     "metadata": {},
     "output_type": "display_data"
    }
   ],
   "source": [
    "%matplotlib inline\n",
    "\n",
    "import matplotlib\n",
    "import numpy as np\n",
    "import matplotlib.pyplot as plt\n",
    "\n",
    "# y axis ticks\n",
    "y_pos = np.arange(len(df_unique.iloc[::50]))\n",
    "\n",
    "# plot\n",
    "plt.bar(y_pos, df_unique['Count'].iloc[::50], align='center', alpha=0.5)\n",
    "plt.xlabel('Names (decending order of frequency)')\n",
    "plt.ylabel('N observations')\n",
    "plt.title('Distribution of names')\n",
    "plt.axvline((len(df_unique.loc[0:len(df_unique)*.05])/50), color=\"gray\")\n",
    "plt.text(23, 100000, \"5th percentile\", va='center', ha=\"left\", bbox=dict(facecolor=\"w\",alpha=0.5))\n",
    "plt.show()"
   ]
  },
  {
   "cell_type": "code",
   "execution_count": 8,
   "metadata": {
    "collapsed": true
   },
   "outputs": [],
   "source": [
    "# expand count data as observation rows \n",
    "df = df.reindex(df.index.repeat(df.Count))"
   ]
  },
  {
   "cell_type": "code",
   "execution_count": 9,
   "metadata": {
    "collapsed": true
   },
   "outputs": [],
   "source": [
    "# randomly sample to reduce data\n",
    "sample_ratio = .1\n",
    "df = df.sample(frac=sample_ratio)"
   ]
  },
  {
   "cell_type": "code",
   "execution_count": 10,
   "metadata": {
    "collapsed": true
   },
   "outputs": [],
   "source": [
    "# separate predictors and target label data\n",
    "df = df.set_index(df[\"Name\"])\n",
    "del df.index.name\n",
    "df_predictor = df.drop(['Count','State'], axis = 1)\n",
    "df_label = df['State']"
   ]
  },
  {
   "cell_type": "code",
   "execution_count": 11,
   "metadata": {
    "collapsed": true
   },
   "outputs": [],
   "source": [
    "from sklearn.preprocessing import MinMaxScaler\n",
    "\n",
    "int_columns = ['Year']\n",
    "\n",
    "# min/max scaling of integer features\n",
    "scaler = MinMaxScaler()\n",
    "MinMaxScaler(copy=True, feature_range=(0, 1))\n",
    "df[int_columns] = scaler.fit_transform(df[int_columns])\n",
    "#df[int_columns] = scaler.inverse_transform(df[int_columns])"
   ]
  },
  {
   "cell_type": "code",
   "execution_count": 12,
   "metadata": {},
   "outputs": [
    {
     "name": "stderr",
     "output_type": "stream",
     "text": [
      "/Users/goconnell/anaconda3/lib/python3.6/site-packages/sklearn/model_selection/_split.py:2026: FutureWarning: From version 0.21, test_size will always complement train_size unless both are specified.\n",
      "  FutureWarning)\n"
     ]
    }
   ],
   "source": [
    "# Using Skicit-learn to split data into training and testing sets\n",
    "from sklearn.model_selection import train_test_split\n",
    "\n",
    "X_train, X_test, y_train, y_test = train_test_split(df_predictor, df_label, random_state=0,train_size=0.2)"
   ]
  },
  {
   "cell_type": "code",
   "execution_count": 13,
   "metadata": {
    "collapsed": true
   },
   "outputs": [],
   "source": [
    "# submit test case by recoding using same labelling as training data\n",
    "name_code = [k for k, v in label_list[0].items() if v == test_case[\"Name\"]]\n",
    "gender_code = [k for k, v in label_list[1].items() if v == test_case[\"Gender\"]]\n",
    "\n",
    "# fill in estimated feature data for test case\n",
    "X_case = pd.DataFrame([(name_code[0],min(year_incl, key=lambda x:abs(x-test_case[\"Year\"])),gender_code[0])],columns=list(test_case.keys()))"
   ]
  },
  {
   "cell_type": "code",
   "execution_count": 14,
   "metadata": {
    "collapsed": true
   },
   "outputs": [],
   "source": [
    "# random forest model fitting\n",
    "\n",
    "from sklearn.ensemble import RandomForestClassifier as RF\n",
    "from sklearn.metrics import accuracy_score\n",
    "from sklearn.model_selection import cross_val_score\n",
    "\n",
    "# Create a random forest Classifier. By convention, clf means 'Classifier'\n",
    "clf_rf = RF(n_jobs=1, random_state=0)\n",
    "clf_rf.fit(X_train, y_train)\n",
    "scores_rf = cross_val_score(clf_rf, X_train, y_train, cv=5)"
   ]
  },
  {
   "cell_type": "markdown",
   "metadata": {},
   "source": [
    "#### Random Forest model fit results\n",
    "\n",
    "The accuracy of the model on test data."
   ]
  },
  {
   "cell_type": "code",
   "execution_count": 15,
   "metadata": {},
   "outputs": [
    {
     "name": "stdout",
     "output_type": "stream",
     "text": [
      "Accuracy:  0.110760584415\n"
     ]
    }
   ],
   "source": [
    "# assess accuracy\n",
    "y_predict_rf = clf_rf.predict(X_test)\n",
    "score_rf = accuracy_score(y_test, y_predict_rf)\n",
    "print('Accuracy: ',score_rf)"
   ]
  },
  {
   "cell_type": "markdown",
   "metadata": {},
   "source": [
    "#### Random Forest test case classification\n",
    "\n",
    "The probability of the given name/gender/year case being born in a specific state."
   ]
  },
  {
   "cell_type": "code",
   "execution_count": 16,
   "metadata": {},
   "outputs": [
    {
     "data": {
      "image/png": "[encoded data removed]",
      "text/plain": [
       "<matplotlib.figure.Figure at 0x1230d9240>"
      ]
     },
     "metadata": {},
     "output_type": "display_data"
    }
   ],
   "source": [
    "# distribution of probabilities (likelihood) across states\n",
    "\n",
    "import seaborn as sns\n",
    "\n",
    "# predict probabilities of test case gender\n",
    "X_case_prob_rf = clf_rf.predict_proba(X_case)\n",
    "prob_dist_rf = pd.DataFrame(columns=['State','Probability'])\n",
    "prob_dist_rf[\"State\"]=label_list[2].values()\n",
    "prob_dist_rf[\"Probability\"]=X_case_prob_rf[0]\n",
    "              \n",
    "# plot\n",
    "plt.figure(figsize=(12,8))\n",
    "ax = sns.barplot(x=\"State\", y=\"Probability\", data=prob_dist_rf, palette=sns.color_palette(\"GnBu\", 10))\n",
    "plt.xticks(rotation='vertical')\n",
    "ax.grid(b=True, which='major', color='#d3d3d3', linewidth=1.0)\n",
    "ax.grid(b=True, which='minor', color='#d3d3d3', linewidth=0.5)\n",
    "plt.show()"
   ]
  },
  {
   "cell_type": "markdown",
   "metadata": {},
   "source": [
    "#### Random Forest test case predicted label\n",
    "\n",
    "The predicted state label of the given name/gender/year case."
   ]
  },
  {
   "cell_type": "code",
   "execution_count": 17,
   "metadata": {},
   "outputs": [
    {
     "name": "stdout",
     "output_type": "stream",
     "text": [
      "Predicted label:  AZ\n"
     ]
    }
   ],
   "source": [
    "# predict case label\n",
    "label_rf = clf_rf.predict(X_case)\n",
    "print('Predicted label: ',label_list[2][label_rf[0]])"
   ]
  },
  {
   "cell_type": "markdown",
   "metadata": {},
   "source": [
    "### Question 2."
   ]
  },
  {
   "cell_type": "code",
   "execution_count": 18,
   "metadata": {
    "collapsed": true
   },
   "outputs": [],
   "source": [
    "from collections import OrderedDict\n",
    "\n",
    "# enter attributes for test case to submit to model\n",
    "test_case = OrderedDict([('Name', \"Taylor\"), ('Year', 2011), ('State', \"FL\")])"
   ]
  },
  {
   "cell_type": "code",
   "execution_count": 19,
   "metadata": {
    "collapsed": true
   },
   "outputs": [],
   "source": [
    "# reload data\n",
    "df = pd.read_csv(os.path.join(data_dir,'StateNames.csv'), index_col = False) \n",
    "\n",
    "# remove ID as there is nothing to learn from this feature (it would just add some noise)\n",
    "df = df.drop(['Id'], axis=1)\n",
    "\n",
    "# sample data evenly spaced across time to minimize to a smaller dataset for building model prototype\n",
    "year_ratio = 20\n",
    "year_ratio = (df[\"Year\"].max()-df[\"Year\"].min())/year_ratio\n",
    "year_incl = np.arange(df[\"Year\"].min(), df[\"Year\"].max(), year_ratio)\n",
    "year_incl = list(map(int, year_incl))\n",
    "df = df[df['Year'].isin(year_incl)]\n",
    "\n",
    "# create new features \n",
    "df['Rank'] = df.groupby(['Year','State'])['Count'].rank(ascending=False)"
   ]
  },
  {
   "cell_type": "code",
   "execution_count": 20,
   "metadata": {
    "collapsed": true
   },
   "outputs": [],
   "source": [
    "# get latitude and longitude coordinates\n",
    "regions = pd.read_csv(os.path.join(data_dir,'region_census.csv')) \n",
    "statenames = df['State'].map(regions.set_index('State Code')['State'])\n",
    "capitals = pd.read_csv(os.path.join(data_dir,'state_capitals.csv')) \n",
    "df['Latitude'] = statenames.map(capitals.set_index('name')['latitude'])\n",
    "df['Longtitude'] = statenames.map(capitals.set_index('name')['longitude'])"
   ]
  },
  {
   "cell_type": "code",
   "execution_count": 21,
   "metadata": {
    "collapsed": true
   },
   "outputs": [],
   "source": [
    "# record labels for decode after classification\n",
    "cat_columns = [\"Name\",\"Gender\",\"State\"]\n",
    "label_list = []\n",
    "for column in cat_columns:\n",
    "    df[column] = df[column].astype('category')\n",
    "    label_list.append(dict( enumerate(df[column].cat.categories) ))\n",
    "    df[column] = df[column].astype('category').cat.codes"
   ]
  },
  {
   "cell_type": "code",
   "execution_count": 22,
   "metadata": {
    "collapsed": true
   },
   "outputs": [],
   "source": [
    "# expand count data as observation rows \n",
    "df = df.reindex(df.index.repeat(df.Count))"
   ]
  },
  {
   "cell_type": "code",
   "execution_count": 24,
   "metadata": {
    "collapsed": true
   },
   "outputs": [],
   "source": [
    "# submit test case by recoding using same labelling as training data\n",
    "name_code = [k for k, v in label_list[0].items() if v == test_case[\"Name\"]]\n",
    "state_code = [k for k, v in label_list[2].items() if v == test_case[\"State\"]]\n",
    "\n",
    "# fill in estimated feature data for test case\n",
    "X_case = pd.DataFrame([(name_code[0],min(year_incl, key=lambda x:abs(x-test_case[\"Year\"])),state_code[0])],columns=list(test_case.keys()))\n",
    "\n",
    "# find corresponding cases to fill in estimated features\n",
    "rank_test_case = df[\"Rank\"].loc[(df[\"Name\"] == name_code) & (df[\"Year\"] == X_case[\"Year\"].loc[0]) & (df[\"State\"] == state_code)]\n",
    "latitude_test_case = df[\"Latitude\"].loc[(df[\"Name\"] == name_code) & (df[\"Year\"] == X_case[\"Year\"].loc[0]) & (df[\"State\"] == state_code)]\n",
    "longtitude_test_case = df[\"Longtitude\"].loc[(df[\"Name\"] == name_code) & (df[\"Year\"] == X_case[\"Year\"].loc[0]) & (df[\"State\"] == state_code)]\n",
    "\n",
    "# fill data into case df\n",
    "X_case[\"Rank\"] = rank_test_case.iloc[0]\n",
    "X_case[\"Latitude\"] = latitude_test_case.iloc[0]\n",
    "X_case[\"Longtitude\"] = longtitude_test_case.iloc[0]"
   ]
  },
  {
   "cell_type": "code",
   "execution_count": 25,
   "metadata": {
    "collapsed": true
   },
   "outputs": [],
   "source": [
    "# randomly sample to reduce data\n",
    "sample_ratio = .01\n",
    "df = df.sample(frac=sample_ratio)"
   ]
  },
  {
   "cell_type": "code",
   "execution_count": 26,
   "metadata": {
    "collapsed": true
   },
   "outputs": [],
   "source": [
    "# separate predictors and target label data\n",
    "df = df.set_index(df[\"Name\"])\n",
    "del df.index.name\n",
    "df_predictor = df.drop(['Count','Gender'], axis = 1)\n",
    "df_label = df['Gender']"
   ]
  },
  {
   "cell_type": "code",
   "execution_count": 27,
   "metadata": {
    "collapsed": true
   },
   "outputs": [],
   "source": [
    "from sklearn.preprocessing import MinMaxScaler\n",
    "\n",
    "int_columns = ['Year','Latitude','Longtitude']\n",
    "\n",
    "# min/max scaling of integer features\n",
    "scaler = MinMaxScaler()\n",
    "MinMaxScaler(copy=True, feature_range=(0, 1))\n",
    "df[int_columns] = scaler.fit_transform(df[int_columns])\n",
    "#df[int_columns] = scaler.inverse_transform(df[int_columns])"
   ]
  },
  {
   "cell_type": "code",
   "execution_count": 28,
   "metadata": {
    "collapsed": true
   },
   "outputs": [],
   "source": [
    "# Using Skicit-learn to split data into training and testing sets\n",
    "from sklearn.model_selection import train_test_split\n",
    "\n",
    "X_train, X_test, y_train, y_test = train_test_split(df_predictor, df_label, random_state=0,test_size=0.2)"
   ]
  },
  {
   "cell_type": "markdown",
   "metadata": {},
   "source": [
    "#### K parameter selection\n",
    "\n",
    "A range of values of K were fit and the value of 20 was chosen based on the below visualization indicating a levelling off of error rate increases."
   ]
  },
  {
   "cell_type": "code",
   "execution_count": 29,
   "metadata": {},
   "outputs": [
    {
     "name": "stderr",
     "output_type": "stream",
     "text": [
      "/Users/goconnell/anaconda3/lib/python3.6/site-packages/ipykernel_launcher.py:4: SettingWithCopyWarning: \n",
      "A value is trying to be set on a copy of a slice from a DataFrame.\n",
      "Try using .loc[row_indexer,col_indexer] = value instead\n",
      "\n",
      "See the caveats in the documentation: http://pandas.pydata.org/pandas-docs/stable/indexing.html#indexing-view-versus-copy\n",
      "  after removing the cwd from sys.path.\n",
      "/Users/goconnell/anaconda3/lib/python3.6/site-packages/ipykernel_launcher.py:5: SettingWithCopyWarning: \n",
      "A value is trying to be set on a copy of a slice from a DataFrame.\n",
      "Try using .loc[row_indexer,col_indexer] = value instead\n",
      "\n",
      "See the caveats in the documentation: http://pandas.pydata.org/pandas-docs/stable/indexing.html#indexing-view-versus-copy\n",
      "  \"\"\"\n",
      "/Users/goconnell/anaconda3/lib/python3.6/site-packages/ipykernel_launcher.py:6: SettingWithCopyWarning: \n",
      "A value is trying to be set on a copy of a slice from a DataFrame.\n",
      "Try using .loc[row_indexer,col_indexer] = value instead\n",
      "\n",
      "See the caveats in the documentation: http://pandas.pydata.org/pandas-docs/stable/indexing.html#indexing-view-versus-copy\n",
      "  \n",
      "/Users/goconnell/anaconda3/lib/python3.6/site-packages/ipykernel_launcher.py:7: SettingWithCopyWarning: \n",
      "A value is trying to be set on a copy of a slice from a DataFrame.\n",
      "Try using .loc[row_indexer,col_indexer] = value instead\n",
      "\n",
      "See the caveats in the documentation: http://pandas.pydata.org/pandas-docs/stable/indexing.html#indexing-view-versus-copy\n",
      "  import sys\n"
     ]
    }
   ],
   "source": [
    "# convert to correct data types\n",
    "cat_columns = ['Name','State']\n",
    "int_columns = ['Year','Rank','Latitude','Longtitude']\n",
    "for column in cat_columns: X_train[column] = X_train[column].astype('category')\n",
    "for column in cat_columns: X_test[column] = X_test[column].astype('category')\n",
    "for column in int_columns: X_train[column] = X_train[column].astype('int')\n",
    "for column in int_columns: X_test[column] = X_test[column].astype('int')"
   ]
  },
  {
   "cell_type": "code",
   "execution_count": 30,
   "metadata": {
    "collapsed": true
   },
   "outputs": [],
   "source": [
    "# determine optimal k using elbow method\n",
    " \n",
    "from sklearn.neighbors import KNeighborsClassifier\n",
    "from sklearn.model_selection import cross_val_score\n",
    "from sklearn import metrics\n",
    "from scipy.spatial.distance import cdist\n",
    "import matplotlib.pyplot as plt\n",
    "\n",
    "# k means determine k\n",
    "error_rate = []\n",
    "K = [50,100,300,500]\n",
    "for k in K:\n",
    "    clf_knn = KNeighborsClassifier(n_neighbors=k)\n",
    "    clf_knn.fit(X_train,y_train)\n",
    "    scores = cross_val_score(clf_knn, X_train, y_train, cv=5)\n",
    "    error_rate.append(scores.mean())"
   ]
  },
  {
   "cell_type": "code",
   "execution_count": 31,
   "metadata": {},
   "outputs": [
    {
     "data": {
      "image/png": "[encoded data removed]",
      "text/plain": [
       "<matplotlib.figure.Figure at 0x1410e0278>"
      ]
     },
     "metadata": {},
     "output_type": "display_data"
    }
   ],
   "source": [
    "%matplotlib inline  \n",
    "\n",
    "import matplotlib.pyplot as plt\n",
    "\n",
    "# x axis ticks\n",
    "K = [50,100,300,500]\n",
    "# plot the elbow\n",
    "plt.figure(figsize=(10,6))\n",
    "plt.plot(K,(1-np.array(error_rate)),color='blue', linestyle='dashed', marker='o',markerfacecolor='red', markersize=10)\n",
    "plt.title('Error Rate vs. K Value')\n",
    "plt.xlabel('K')\n",
    "plt.ylabel('Error Rate')\n",
    "plt.show()"
   ]
  },
  {
   "cell_type": "markdown",
   "metadata": {},
   "source": [
    "#### KNN model fit results\n",
    "\n",
    "The accuracy of the model on test data."
   ]
  },
  {
   "cell_type": "code",
   "execution_count": 32,
   "metadata": {},
   "outputs": [
    {
     "name": "stdout",
     "output_type": "stream",
     "text": [
      "Accuracy:  0.881215543902\n"
     ]
    }
   ],
   "source": [
    "# assess accuracy\n",
    "from sklearn.metrics import accuracy_score\n",
    "\n",
    "clf_knn = KNeighborsClassifier(n_neighbors=100)\n",
    "clf_knn.fit(X_train,y_train)\n",
    "y_predict_knn = clf_knn.predict(X_test)\n",
    "score_knn = accuracy_score(y_test, y_predict_knn)\n",
    "print('Accuracy: ',score_knn)"
   ]
  },
  {
   "cell_type": "markdown",
   "metadata": {},
   "source": [
    "#### KNN test case label probabilities\n",
    "\n",
    "The probability of the given name/state/year case being a specific gender."
   ]
  },
  {
   "cell_type": "code",
   "execution_count": 33,
   "metadata": {},
   "outputs": [
    {
     "name": "stdout",
     "output_type": "stream",
     "text": [
      "  Gender  Probability\n",
      "0      F         0.66\n",
      "1      M         0.34\n"
     ]
    },
    {
     "data": {
      "image/png": "[encoded data removed]",
      "text/plain": [
       "<matplotlib.figure.Figure at 0x13b2eb7b8>"
      ]
     },
     "metadata": {},
     "output_type": "display_data"
    }
   ],
   "source": [
    "import seaborn as sns\n",
    "\n",
    "# predict probabilities of test case gender\n",
    "X_case_prob_knn = clf_knn.predict_proba(X_case)\n",
    "\n",
    "# predict probabilities of test case gender\n",
    "X_case_prob_knn = clf_knn.predict_proba(X_case)\n",
    "prob_dist_knn = pd.DataFrame(columns=['Gender','Probability'])\n",
    "prob_dist_knn[\"Gender\"]=label_list[1].values()\n",
    "prob_dist_knn[\"Probability\"]=X_case_prob_knn[0]\n",
    "print(prob_dist_knn)\n",
    "\n",
    "# plot\n",
    "plt.figure(figsize=(12,8))\n",
    "ax = sns.barplot(x=\"Gender\", y=\"Probability\", data=prob_dist_knn, palette=sns.color_palette(\"GnBu\", 10))\n",
    "plt.xticks(rotation='vertical')\n",
    "ax.grid(b=True, which='major', color='#d3d3d3', linewidth=1.0)\n",
    "ax.grid(b=True, which='minor', color='#d3d3d3', linewidth=0.5)\n",
    "plt.show()"
   ]
  },
  {
   "cell_type": "markdown",
   "metadata": {},
   "source": [
    "#### KNN test case predicted label\n",
    "\n",
    "The predicted gender label of the given name/state/year case."
   ]
  },
  {
   "cell_type": "code",
   "execution_count": 34,
   "metadata": {},
   "outputs": [
    {
     "name": "stdout",
     "output_type": "stream",
     "text": [
      "Predicted label:  F\n"
     ]
    }
   ],
   "source": [
    "# predict case label\n",
    "label_knn = clf_knn.predict(X_case)\n",
    "\n",
    "# map predicted factor level to original label\n",
    "print('Predicted label: ',label_list[1][label_knn[0]])"
   ]
  }
 ],
 "metadata": {
  "kernelspec": {
   "display_name": "Python 3",
   "language": "python",
   "name": "python3"
  },
  "language_info": {
   "codemirror_mode": {
    "name": "ipython",
    "version": 3
   },
   "file_extension": ".py",
   "mimetype": "text/x-python",
   "name": "python",
   "nbconvert_exporter": "python",
   "pygments_lexer": "ipython3",
   "version": "3.6.3"
  }
 },
 "nbformat": 4,
 "nbformat_minor": 2
}
